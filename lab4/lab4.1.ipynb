{
 "cells": [
  {
   "cell_type": "markdown",
   "id": "c7b60c4b-598f-45eb-a0dc-3a2c43111a09",
   "metadata": {},
   "source": [
    "# Лабораторна 4.1\n",
    "## Завдання щодо генерації текстів або машинного перекладу (на вибір) на базі рекурентних мереж або трансформерів (на вибір). \n",
    "## Вирішіть завдання щодо генерації текстів або машинного перекладу. Особливо вітаються україномовні моделі.  "
   ]
  },
  {
   "cell_type": "code",
   "execution_count": 1,
   "id": "f5c4bacb-ae12-4c82-9dc2-a979ac60bca2",
   "metadata": {},
   "outputs": [
    {
     "name": "stderr",
     "output_type": "stream",
     "text": [
      "2023-12-18 20:34:48.726279: I tensorflow/core/platform/cpu_feature_guard.cc:182] This TensorFlow binary is optimized to use available CPU instructions in performance-critical operations.\n",
      "To enable the following instructions: AVX2 FMA, in other operations, rebuild TensorFlow with the appropriate compiler flags.\n"
     ]
    }
   ],
   "source": [
    "import keras\n",
    "from keras import layers\n",
    "\n",
    "import numpy as np\n",
    "import random\n",
    "import io"
   ]
  },
  {
   "cell_type": "code",
   "execution_count": 2,
   "id": "f008e1be-52df-40a6-9971-18f27b0db6d1",
   "metadata": {},
   "outputs": [],
   "source": [
    "path = '/Users/andrii.p/Desktop/Lisova_pisnya_1371650989.txt'"
   ]
  },
  {
   "cell_type": "code",
   "execution_count": 3,
   "id": "fe56e215-1cc9-4f70-8e38-8e44013c4a06",
   "metadata": {},
   "outputs": [
    {
     "name": "stdout",
     "output_type": "stream",
     "text": [
      "Corpus length: 92883\n",
      "Total chars: 60\n",
      "Number of sequences: 30948\n"
     ]
    }
   ],
   "source": [
    "with io.open(path, encoding=\"utf-8\") as f:\n",
    "    text = f.read().lower()\n",
    "text = text.replace(\"\\n\", \" \")\n",
    "print(\"Corpus length:\", len(text))\n",
    "\n",
    "chars = sorted(list(set(text)))\n",
    "print(\"Total chars:\", len(chars))\n",
    "char_indices = dict((c, i) for i, c in enumerate(chars))\n",
    "indices_char = dict((i, c) for i, c in enumerate(chars))\n",
    "\n",
    "maxlen = 40\n",
    "step = 3\n",
    "sentences = []\n",
    "next_chars = []\n",
    "for i in range(0, len(text) - maxlen, step):\n",
    "    sentences.append(text[i : i + maxlen])\n",
    "    next_chars.append(text[i + maxlen])\n",
    "print(\"Number of sequences:\", len(sentences))\n"
   ]
  },
  {
   "cell_type": "code",
   "execution_count": 4,
   "id": "2aa7fa1a-06ce-41c0-8cf0-26760424d46c",
   "metadata": {},
   "outputs": [],
   "source": [
    "x = np.zeros((len(sentences), maxlen, len(chars)), dtype=\"bool\")\n",
    "y = np.zeros((len(sentences), len(chars)), dtype=\"bool\")\n",
    "for i, sentence in enumerate(sentences):\n",
    "    for t, char in enumerate(sentence):\n",
    "        x[i, t, char_indices[char]] = 1\n",
    "    y[i, char_indices[next_chars[i]]] = 1"
   ]
  },
  {
   "cell_type": "code",
   "execution_count": 5,
   "id": "b76641cf-97cb-4220-9b52-7c04bae865fc",
   "metadata": {},
   "outputs": [],
   "source": [
    "model = keras.Sequential(\n",
    "    [\n",
    "        keras.Input(shape=(maxlen, len(chars))),\n",
    "        layers.LSTM(128),\n",
    "        layers.Dense(len(chars), activation=\"softmax\"),\n",
    "    ]\n",
    ")"
   ]
  },
  {
   "cell_type": "code",
   "execution_count": 6,
   "id": "07a7bbd8-3494-40bd-9977-b62c980bc90b",
   "metadata": {},
   "outputs": [],
   "source": [
    "optimizer = keras.optimizers.RMSprop(learning_rate=0.01)\n",
    "model.compile(loss=\"categorical_crossentropy\", optimizer=optimizer)"
   ]
  },
  {
   "cell_type": "code",
   "execution_count": 7,
   "id": "8a07d479-ca8a-42d0-b358-5172d0ef7c31",
   "metadata": {},
   "outputs": [],
   "source": [
    "def sample(preds, temperature=1.0):\n",
    "    # helper function to sample an index from a probability array\n",
    "    preds = np.asarray(preds).astype(\"float64\")\n",
    "    preds = np.log(preds) / temperature\n",
    "    exp_preds = np.exp(preds)\n",
    "    preds = exp_preds / np.sum(exp_preds)\n",
    "    probas = np.random.multinomial(1, preds, 1)\n",
    "    return np.argmax(probas)"
   ]
  },
  {
   "cell_type": "code",
   "execution_count": 8,
   "id": "fbbbbd18-16a5-4d79-95b1-7b537012ed5e",
   "metadata": {},
   "outputs": [
    {
     "name": "stdout",
     "output_type": "stream",
     "text": [
      "Epoch 1/20\n",
      "242/242 [==============================] - 11s 39ms/step - loss: 2.6694\n",
      "Epoch 2/20\n",
      "242/242 [==============================] - 9s 39ms/step - loss: 2.2324\n",
      "Epoch 3/20\n",
      "242/242 [==============================] - 10s 41ms/step - loss: 2.0658\n",
      "Epoch 4/20\n",
      "242/242 [==============================] - 10s 40ms/step - loss: 1.9399\n",
      "Epoch 5/20\n",
      "242/242 [==============================] - 10s 40ms/step - loss: 1.8404\n",
      "Epoch 6/20\n",
      "242/242 [==============================] - 10s 40ms/step - loss: 1.7394\n",
      "Epoch 7/20\n",
      "242/242 [==============================] - 10s 41ms/step - loss: 1.6463\n",
      "Epoch 8/20\n",
      "242/242 [==============================] - 10s 40ms/step - loss: 1.5561\n",
      "Epoch 9/20\n",
      "242/242 [==============================] - 10s 41ms/step - loss: 1.4735\n",
      "Epoch 10/20\n",
      "242/242 [==============================] - 10s 41ms/step - loss: 1.3956\n",
      "Epoch 11/20\n",
      "242/242 [==============================] - 12s 52ms/step - loss: 1.3278\n",
      "Epoch 12/20\n",
      "242/242 [==============================] - 12s 48ms/step - loss: 1.2706\n",
      "Epoch 13/20\n",
      "242/242 [==============================] - 11s 45ms/step - loss: 1.2221\n",
      "Epoch 14/20\n",
      "242/242 [==============================] - 11s 46ms/step - loss: 1.1846\n",
      "Epoch 15/20\n",
      "242/242 [==============================] - 12s 48ms/step - loss: 1.1459\n",
      "Epoch 16/20\n",
      "242/242 [==============================] - 10s 43ms/step - loss: 1.1156\n",
      "Epoch 17/20\n",
      "242/242 [==============================] - 10s 42ms/step - loss: 1.0869\n",
      "Epoch 18/20\n",
      "242/242 [==============================] - 10s 43ms/step - loss: 1.0585\n",
      "Epoch 19/20\n",
      "242/242 [==============================] - 10s 43ms/step - loss: 1.0407\n",
      "Epoch 20/20\n",
      "242/242 [==============================] - 11s 46ms/step - loss: 1.0150\n"
     ]
    },
    {
     "data": {
      "text/plain": [
       "<keras.src.callbacks.History at 0x1385f2710>"
      ]
     },
     "execution_count": 8,
     "metadata": {},
     "output_type": "execute_result"
    }
   ],
   "source": [
    "model.fit(x, y, batch_size=128, epochs=20)"
   ]
  },
  {
   "cell_type": "code",
   "execution_count": 9,
   "id": "c12e7611-66d1-4ad6-9bbe-f488b9cbdd16",
   "metadata": {},
   "outputs": [],
   "source": [
    "def generate_text(length, diversity):\n",
    "    # Get random starting text\n",
    "    start_index = np.random.randint(0, len(text) - maxlen - 1)\n",
    "    generated = ''\n",
    "    sentence = text[start_index: start_index + maxlen]\n",
    "    generated += sentence\n",
    "    for i in range(length):\n",
    "            x_pred = np.zeros((1, maxlen, len(chars)))\n",
    "            for t, char in enumerate(sentence):\n",
    "                x_pred[0, t, char_indices[char]] = 1.\n",
    "\n",
    "            preds = model.predict(x_pred, verbose=0)[0]\n",
    "            next_index = sample(preds, diversity)\n",
    "            next_char = indices_char[next_index]\n",
    "\n",
    "            generated += next_char\n",
    "            sentence = sentence[1:] + next_char\n",
    "    return generated"
   ]
  },
  {
   "cell_type": "code",
   "execution_count": null,
   "id": "e9537257-b2a6-4ad3-b7b2-546e9e2eec8b",
   "metadata": {},
   "outputs": [],
   "source": [
    "generate_text(200,0.2)"
   ]
  },
  {
   "cell_type": "code",
   "execution_count": null,
   "id": "94111a66-7096-4f28-9834-3ddc16f34c2d",
   "metadata": {},
   "outputs": [],
   "source": []
  }
 ],
 "metadata": {
  "kernelspec": {
   "display_name": "Python 3 (ipykernel)",
   "language": "python",
   "name": "python3"
  },
  "language_info": {
   "codemirror_mode": {
    "name": "ipython",
    "version": 3
   },
   "file_extension": ".py",
   "mimetype": "text/x-python",
   "name": "python",
   "nbconvert_exporter": "python",
   "pygments_lexer": "ipython3",
   "version": "3.10.6"
  }
 },
 "nbformat": 4,
 "nbformat_minor": 5
}
